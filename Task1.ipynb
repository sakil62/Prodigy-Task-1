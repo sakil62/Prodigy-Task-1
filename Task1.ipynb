{
 "cells": [
  {
   "cell_type": "code",
   "execution_count": 1,
   "id": "70b3407e",
   "metadata": {},
   "outputs": [
    {
     "name": "stdout",
     "output_type": "stream",
     "text": [
      "Enter temperature value: 25\n",
      "Enter unit (C for Celsius, F for Fahrenheit, K for Kelvin): f\n",
      "\n",
      "Original: 25.00 °F\n",
      "Celsius: -3.89 °C\n",
      "Kelvin: 269.26 K\n"
     ]
    }
   ],
   "source": [
    "# Temperature Conversion Program\n",
    "\n",
    "def celsius_to_fahrenheit(c):\n",
    "    return (c * 9/5) + 32\n",
    "\n",
    "def celsius_to_kelvin(c):\n",
    "    return c + 273.15\n",
    "\n",
    "def fahrenheit_to_celsius(f):\n",
    "    return (f - 32) * 5/9\n",
    "\n",
    "def fahrenheit_to_kelvin(f):\n",
    "    return (f - 32) * 5/9 + 273.15\n",
    "\n",
    "def kelvin_to_celsius(k):\n",
    "    return k - 273.15\n",
    "\n",
    "def kelvin_to_fahrenheit(k):\n",
    "    return (k - 273.15) * 9/5 + 32\n",
    "\n",
    "# Prompt user for input\n",
    "temp = float(input(\"Enter temperature value: \"))\n",
    "unit = input(\"Enter unit (C for Celsius, F for Fahrenheit, K for Kelvin): \").strip().upper()\n",
    "\n",
    "# Conversion logic\n",
    "if unit == \"C\":\n",
    "    f = celsius_to_fahrenheit(temp)\n",
    "    k = celsius_to_kelvin(temp)\n",
    "    print(f\"\\nOriginal: {temp:.2f} °C\")\n",
    "    print(f\"Fahrenheit: {f:.2f} °F\")\n",
    "    print(f\"Kelvin: {k:.2f} K\")\n",
    "\n",
    "elif unit == \"F\":\n",
    "    c = fahrenheit_to_celsius(temp)\n",
    "    k = fahrenheit_to_kelvin(temp)\n",
    "    print(f\"\\nOriginal: {temp:.2f} °F\")\n",
    "    print(f\"Celsius: {c:.2f} °C\")\n",
    "    print(f\"Kelvin: {k:.2f} K\")\n",
    "\n",
    "elif unit == \"K\":\n",
    "    c = kelvin_to_celsius(temp)\n",
    "    f = kelvin_to_fahrenheit(temp)\n",
    "    print(f\"\\nOriginal: {temp:.2f} K\")\n",
    "    print(f\"Celsius: {c:.2f} °C\")\n",
    "    print(f\"Fahrenheit: {f:.2f} °F\")\n",
    "\n",
    "else:\n",
    "    print(\"\\nInvalid unit entered. Please enter C, F, or K.\")\n"
   ]
  },
  {
   "cell_type": "code",
   "execution_count": null,
   "id": "702692ce",
   "metadata": {},
   "outputs": [],
   "source": []
  }
 ],
 "metadata": {
  "kernelspec": {
   "display_name": "Python 3 (ipykernel)",
   "language": "python",
   "name": "python3"
  },
  "language_info": {
   "codemirror_mode": {
    "name": "ipython",
    "version": 3
   },
   "file_extension": ".py",
   "mimetype": "text/x-python",
   "name": "python",
   "nbconvert_exporter": "python",
   "pygments_lexer": "ipython3",
   "version": "3.13.5"
  }
 },
 "nbformat": 4,
 "nbformat_minor": 5
}
